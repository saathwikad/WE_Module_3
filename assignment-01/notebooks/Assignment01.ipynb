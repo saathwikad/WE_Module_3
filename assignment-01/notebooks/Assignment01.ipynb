{
  "nbformat": 4,
  "nbformat_minor": 0,
  "metadata": {
    "colab": {
      "provenance": [],
      "authorship_tag": "ABX9TyM/3ET6EDOdUWLmkpWBvTSA",
      "include_colab_link": true
    },
    "kernelspec": {
      "name": "python3",
      "display_name": "Python 3"
    },
    "language_info": {
      "name": "python"
    }
  },
  "cells": [
    {
      "cell_type": "markdown",
      "metadata": {
        "id": "view-in-github",
        "colab_type": "text"
      },
      "source": [
        "<a href=\"https://colab.research.google.com/github/saathwikad/WE_Module_3/blob/main/assignment-01/notebooks/Assignment01.ipynb\" target=\"_parent\"><img src=\"https://colab.research.google.com/assets/colab-badge.svg\" alt=\"Open In Colab\"/></a>"
      ]
    },
    {
      "cell_type": "markdown",
      "source": [
        "Step 1 : Taking the input."
      ],
      "metadata": {
        "id": "Ev2ml6io2ORh"
      }
    },
    {
      "cell_type": "code",
      "source": [
        "# Define the input function\n",
        "def take_input():\n",
        "    # Take input for the number of students and number of subjects\n",
        "    num_students = int(input(\"Enter the number of students: \"))\n",
        "    num_subjects = int(input(\"Enter the number of subjects: \"))\n",
        "\n",
        "    # Initialize an empty list to store scores\n",
        "    scores = []\n",
        "\n",
        "    # Take input for each student's scores in each subject\n",
        "    for _ in range(num_students):\n",
        "        student_scores = []\n",
        "        print(f\"Enter scores for student {_ + 1}:\")\n",
        "        for _ in range(num_subjects):\n",
        "            score = int(input(f\"Enter score for subject {_ + 1}: \"))\n",
        "            student_scores.append(score)\n",
        "        scores.append(student_scores)\n",
        "\n",
        "    return scores\n",
        "\n",
        "# Test the input function\n",
        "scores = take_input()\n",
        "print(\"Scores:\", scores)\n"
      ],
      "metadata": {
        "colab": {
          "base_uri": "https://localhost:8080/"
        },
        "id": "sbDwVNeM2UFg",
        "outputId": "16be66a8-5d73-4494-feea-af98ea75a635"
      },
      "execution_count": 8,
      "outputs": [
        {
          "output_type": "stream",
          "name": "stdout",
          "text": [
            "Enter the number of students: 3\n",
            "Enter the number of subjects: 2\n",
            "Enter scores for student 1:\n",
            "Enter score for subject 1: 5\n",
            "Enter score for subject 2: 10\n",
            "Enter scores for student 2:\n",
            "Enter score for subject 1: 15\n",
            "Enter score for subject 2: 20\n",
            "Enter scores for student 3:\n",
            "Enter score for subject 1: 25\n",
            "Enter score for subject 2: 30\n",
            "Scores: [[5, 10], [15, 20], [25, 30]]\n"
          ]
        }
      ]
    },
    {
      "cell_type": "code",
      "source": [
        "def zip_students(scores):\n",
        "    alphabet = 'ABCDEFGHIJKLMNOPQRSTUVWXYZ'\n",
        "    zipped_data = {}\n",
        "\n",
        "    # Zip student names with scores\n",
        "    for i, student_scores in enumerate(scores):\n",
        "        student_name = alphabet[i]\n",
        "        zipped_data[student_name] = student_scores\n",
        "\n",
        "    return zipped_data\n",
        "zipped_data = zip_students(scores)\n",
        "print(\"Zipped data:\", zipped_data)\n"
      ],
      "metadata": {
        "colab": {
          "base_uri": "https://localhost:8080/"
        },
        "id": "zPw7YJ0p2j5B",
        "outputId": "9b2374c7-6a40-4e84-c8b2-87a936244ab6"
      },
      "execution_count": 16,
      "outputs": [
        {
          "output_type": "stream",
          "name": "stdout",
          "text": [
            "Zipped data: {'A': 'Student1', 'B': 'Student2', 'C': 'Student3', 'D': 'Student4'}\n"
          ]
        }
      ]
    },
    {
      "cell_type": "code",
      "source": [
        "print(zip_students(scores))"
      ],
      "metadata": {
        "colab": {
          "base_uri": "https://localhost:8080/"
        },
        "id": "Zr_70R1o3oJx",
        "outputId": "12b79cae-4104-4c62-8c8e-17dd6e6d91dc"
      },
      "execution_count": 10,
      "outputs": [
        {
          "output_type": "stream",
          "name": "stdout",
          "text": [
            "{'A': [5, 10], 'B': [15, 20], 'C': [25, 30]}\n"
          ]
        }
      ]
    },
    {
      "cell_type": "code",
      "source": [
        "def compare_students(scores):\n",
        "    comparisons = []\n",
        "\n",
        "    # Iterate over each student and their scores\n",
        "    for student1, scores1 in scores.items():\n",
        "        for student2, scores2 in scores.items():\n",
        "            # Compare scores of student1 with scores of student2\n",
        "            if all(score1 > score2 for score1, score2 in zip(scores1, scores2)):\n",
        "                comparisons.append(f\"{student1} > {student2}\")\n",
        "            elif all(score1 < score2 for score1, score2 in zip(scores1, scores2)):\n",
        "                comparisons.append(f\"{student1} < {student2}\")\n",
        "\n",
        "    # Remove redundant comparisons\n",
        "    unique_comparisons = []\n",
        "    for comp in comparisons:\n",
        "        if not any(comp.split()[0] in c or comp.split()[2] in c for c in unique_comparisons):\n",
        "            unique_comparisons.append(comp)\n",
        "\n",
        "    return unique_comparisons\n"
      ],
      "metadata": {
        "id": "mQHvMntK3zd2"
      },
      "execution_count": 11,
      "outputs": []
    },
    {
      "cell_type": "code",
      "source": [
        "print(compare_students(zipped_data))"
      ],
      "metadata": {
        "colab": {
          "base_uri": "https://localhost:8080/"
        },
        "id": "uT8485G28CHj",
        "outputId": "3716d4d2-10a9-40aa-a971-d22519beef2e"
      },
      "execution_count": 18,
      "outputs": [
        {
          "output_type": "stream",
          "name": "stdout",
          "text": [
            "[]\n"
          ]
        }
      ]
    },
    {
      "cell_type": "code",
      "source": [
        "scores = {\n",
        "   'A': [5, 10],\n",
        "   'B': [15, 20],\n",
        "   'C': [25, 30]\n",
        "}\n"
      ],
      "metadata": {
        "id": "m7a7QCrm8EfQ"
      },
      "execution_count": 17,
      "outputs": []
    },
    {
      "cell_type": "code",
      "source": [
        "print(compare_students(scores))"
      ],
      "metadata": {
        "colab": {
          "base_uri": "https://localhost:8080/"
        },
        "id": "GjN3yYo7A92M",
        "outputId": "0212e867-4850-4da7-ab6f-9f2281d967f4"
      },
      "execution_count": 20,
      "outputs": [
        {
          "output_type": "stream",
          "name": "stdout",
          "text": [
            "['A < B']\n"
          ]
        }
      ]
    },
    {
      "cell_type": "code",
      "source": [
        "def compare_students(scores):\n",
        "    comparisons = []\n",
        "\n",
        "    # Iterate over each student and their scores\n",
        "    for student1, scores1 in scores.items():\n",
        "        for student2, scores2 in scores.items():\n",
        "            if student1 != student2:  # Avoid comparing a student with themselves\n",
        "                # Compare scores of student1 with scores of student2\n",
        "                if all(score1 > score2 for score1, score2 in zip(scores1, scores2)):\n",
        "                    comparisons.append(f\"{student1} > {student2}\")\n",
        "                elif all(score1 < score2 for score1, score2 in zip(scores1, scores2)):\n",
        "                    comparisons.append(f\"{student1} < {student2}\")\n",
        "                else:\n",
        "                    comparisons.append(f\"{student1} # {student2}\")  # Uncomparable scores\n",
        "\n",
        "    return comparisons\n",
        "\n",
        "# Test the function with the given test case\n",
        "scores = {\n",
        "    'A': [5, 10],\n",
        "    'B': [15, 20],\n",
        "    'C': [25, 30]\n",
        "}\n",
        "\n",
        "output = compare_students(scores)\n",
        "for comp in output:\n",
        "    print(comp)\n"
      ],
      "metadata": {
        "colab": {
          "base_uri": "https://localhost:8080/"
        },
        "id": "jBp5EAQeA_rC",
        "outputId": "5bdd5acc-7d89-49bf-828e-78c33cf257cf"
      },
      "execution_count": 21,
      "outputs": [
        {
          "output_type": "stream",
          "name": "stdout",
          "text": [
            "A < B\n",
            "A < C\n",
            "B > A\n",
            "B < C\n",
            "C > A\n",
            "C > B\n"
          ]
        }
      ]
    },
    {
      "cell_type": "code",
      "source": [
        "import random\n",
        "import string\n",
        "\n",
        "def generate_test_case(num_students, num_subjects):\n",
        "    scores = {}\n",
        "    for i in range(num_students):\n",
        "        student_name = chr(ord('A') + i)  # Generate student name ('A', 'B', 'C', ...)\n",
        "        student_scores = [random.randint(0, 100) for _ in range(num_subjects)]  # Generate random scores\n",
        "        scores[student_name] = student_scores\n",
        "    return scores\n",
        "\n",
        "# Test the function with a sample test case\n",
        "test_case = generate_test_case(5, 3)\n",
        "print(\"Sample Test Case:\")\n",
        "print(test_case)\n"
      ],
      "metadata": {
        "colab": {
          "base_uri": "https://localhost:8080/"
        },
        "id": "2UU0wrncB26a",
        "outputId": "7f53fdc1-20ad-4a01-ba82-3e898d8d16d6"
      },
      "execution_count": 22,
      "outputs": [
        {
          "output_type": "stream",
          "name": "stdout",
          "text": [
            "Sample Test Case:\n",
            "{'A': [28, 14, 48], 'B': [12, 95, 100], 'C': [75, 41, 33], 'D': [75, 90, 24], 'E': [90, 63, 10]}\n"
          ]
        }
      ]
    },
    {
      "cell_type": "code",
      "source": [
        "def compare_students_recursive(scores):\n",
        "    comparisons = []\n",
        "\n",
        "    def compare_helper(student1, student2, scores1, scores2):\n",
        "        nonlocal comparisons\n",
        "\n",
        "        # Compare scores of student1 with scores of student2\n",
        "        if all(score1 > score2 for score1, score2 in zip(scores1, scores2)):\n",
        "            comparisons.append(f\"{student1} > {student2}\")\n",
        "        elif all(score1 < score2 for score1, score2 in zip(scores1, scores2)):\n",
        "            comparisons.append(f\"{student1} < {student2}\")\n",
        "        else:\n",
        "            comparisons.append(f\"{student1} # {student2}\")  # Uncomparable scores\n",
        "\n",
        "    def recursive_compare(students):\n",
        "        if len(students) <= 1:\n",
        "            return\n",
        "\n",
        "        mid = len(students) // 2\n",
        "        first_half = students[:mid]\n",
        "        second_half = students[mid:]\n",
        "\n",
        "        for student1 in first_half:\n",
        "            for student2 in second_half:\n",
        "                scores1 = scores[student1]\n",
        "                scores2 = scores[student2]\n",
        "                compare_helper(student1, student2, scores1, scores2)\n",
        "\n",
        "        recursive_compare(first_half)\n",
        "        recursive_compare(second_half)\n",
        "\n",
        "    recursive_compare(list(scores.keys()))\n",
        "    return comparisons\n",
        "\n"
      ],
      "metadata": {
        "id": "G9ixFMJFDbQt"
      },
      "execution_count": 25,
      "outputs": []
    },
    {
      "cell_type": "code",
      "source": [
        "# Sample test cases\n",
        "test_case_1 = {\n",
        "    'A': [5, 10],\n",
        "    'B': [15, 20],\n",
        "    'C': [25, 30]\n",
        "}\n",
        "\n",
        "test_case_2 = {\n",
        "    'X': [90, 95],\n",
        "    'Y': [85, 80],\n",
        "    'Z': [70, 75],\n",
        "    'W': [60, 65]\n",
        "}\n",
        "\n",
        "test_case_3 = {\n",
        "    'P': [75, 80, 85],\n",
        "    'Q': [70, 75, 80],\n",
        "    'R': [65, 70, 75],\n",
        "    'S': [60, 65, 70]\n",
        "}\n",
        "\n",
        "# List of test cases\n",
        "test_cases = [test_case_1, test_case_2, test_case_3]\n"
      ],
      "metadata": {
        "id": "4_ZiYQRLEJyF"
      },
      "execution_count": 26,
      "outputs": []
    },
    {
      "cell_type": "code",
      "source": [
        "def compare_students(scores):\n",
        "    comparisons = []\n",
        "\n",
        "    # Iterate over each student and their scores\n",
        "    students = list(scores.keys())\n",
        "    num_students = len(students)\n",
        "    for i in range(num_students):\n",
        "        for j in range(i + 1, num_students):  # Iterate over unique pairs\n",
        "            student1 = students[i]\n",
        "            student2 = students[j]\n",
        "            scores1 = scores[student1]\n",
        "            scores2 = scores[student2]\n",
        "\n",
        "            # Compare scores of student1 with scores of student2\n",
        "            if all(score1 > score2 for score1, score2 in zip(scores1, scores2)):\n",
        "                comparisons.append(f\"{student1} > {student2}\")\n",
        "            elif all(score1 < score2 for score1, score2 in zip(scores1, scores2)):\n",
        "                comparisons.append(f\"{student1} < {student2}\")\n",
        "            else:\n",
        "                comparisons.append(f\"{student1} # {student2}\")  # Uncomparable scores\n",
        "\n",
        "    return comparisons\n",
        "\n",
        "def compare_students_recursive(scores):\n",
        "    comparisons = []\n",
        "\n",
        "    def compare_helper(student1, student2, scores1, scores2):\n",
        "        # Compare scores of student1 with scores of student2\n",
        "        if all(score1 > score2 for score1, score2 in zip(scores1, scores2)):\n",
        "            comparisons.append(f\"{student1} > {student2}\")\n",
        "        elif all(score1 < score2 for score1, score2 in zip(scores1, scores2)):\n",
        "            comparisons.append(f\"{student1} < {student2}\")\n",
        "        else:\n",
        "            comparisons.append(f\"{student1} # {student2}\")  # Uncomparable scores\n",
        "\n",
        "    def recursive_compare(students):\n",
        "        if len(students) <= 1:\n",
        "            return\n",
        "\n",
        "        mid = len(students) // 2\n",
        "        first_half = students[:mid]\n",
        "        second_half = students[mid:]\n",
        "\n",
        "        for student1 in first_half:\n",
        "            for student2 in second_half:\n",
        "                scores1 = scores[student1]\n",
        "                scores2 = scores[student2]\n",
        "                compare_helper(student1, student2, scores1, scores2)\n",
        "\n",
        "        recursive_compare(first_half)\n",
        "        recursive_compare(second_half)\n",
        "\n",
        "    recursive_compare(list(scores.keys()))\n",
        "    return comparisons\n",
        "\n",
        "# Iterate over test cases\n",
        "for idx, test_case in enumerate(test_cases, start=1):\n",
        "    print(f\"Test Case {idx}:\")\n",
        "\n",
        "    # Iterative approach\n",
        "    print(\"Iterative Approach:\")\n",
        "    output_iterative = compare_students(test_case)\n",
        "    for comp in output_iterative:\n",
        "        print(comp)\n",
        "\n",
        "    # Recursive approach\n",
        "    print(\"\\nRecursive Approach:\")\n",
        "    output_recursive = compare_students_recursive(test_case)\n",
        "    for comp in output_recursive:\n",
        "        print(comp)\n",
        "\n",
        "    print(\"=\" * 50)\n"
      ],
      "metadata": {
        "colab": {
          "base_uri": "https://localhost:8080/"
        },
        "id": "4GbH66ymEKPY",
        "outputId": "39ed98b5-d1c0-46b0-a81a-f24c5c1041ab"
      },
      "execution_count": 27,
      "outputs": [
        {
          "output_type": "stream",
          "name": "stdout",
          "text": [
            "Test Case 1:\n",
            "Iterative Approach:\n",
            "A < B\n",
            "A < C\n",
            "B < C\n",
            "\n",
            "Recursive Approach:\n",
            "A < B\n",
            "A < C\n",
            "B < C\n",
            "==================================================\n",
            "Test Case 2:\n",
            "Iterative Approach:\n",
            "X > Y\n",
            "X > Z\n",
            "X > W\n",
            "Y > Z\n",
            "Y > W\n",
            "Z > W\n",
            "\n",
            "Recursive Approach:\n",
            "X > Z\n",
            "X > W\n",
            "Y > Z\n",
            "Y > W\n",
            "X > Y\n",
            "Z > W\n",
            "==================================================\n",
            "Test Case 3:\n",
            "Iterative Approach:\n",
            "P > Q\n",
            "P > R\n",
            "P > S\n",
            "Q > R\n",
            "Q > S\n",
            "R > S\n",
            "\n",
            "Recursive Approach:\n",
            "P > R\n",
            "P > S\n",
            "Q > R\n",
            "Q > S\n",
            "P > Q\n",
            "R > S\n",
            "==================================================\n"
          ]
        }
      ]
    },
    {
      "cell_type": "code",
      "source": [
        "def compare_students_recursive_optimized(scores):\n",
        "    comparisons = set()\n",
        "\n",
        "    def compare_helper(student1, student2, scores1, scores2):\n",
        "        # Compare scores of student1 with scores of student2\n",
        "        if all(score1 > score2 for score1, score2 in zip(scores1, scores2)):\n",
        "            comparisons.add(f\"{student1} > {student2}\")\n",
        "        elif all(score1 < score2 for score1, score2 in zip(scores1, scores2)):\n",
        "            comparisons.add(f\"{student1} < {student2}\")\n",
        "        else:\n",
        "            comparisons.add(f\"{student1} # {student2}\")  # Uncomparable scores\n",
        "\n",
        "    def recursive_compare(students):\n",
        "        if len(students) <= 1:\n",
        "            return\n",
        "\n",
        "        mid = len(students) // 2\n",
        "        first_half = students[:mid]\n",
        "        second_half = students[mid:]\n",
        "\n",
        "        for student1 in first_half:\n",
        "            for student2 in second_half:\n",
        "                if (student1, student2) not in comparisons and (student2, student1) not in comparisons:\n",
        "                    scores1 = scores[student1]\n",
        "                    scores2 = scores[student2]\n",
        "                    compare_helper(student1, student2, scores1, scores2)\n",
        "\n",
        "        recursive_compare(first_half)\n",
        "        recursive_compare(second_half)\n",
        "\n",
        "    recursive_compare(list(scores.keys()))\n",
        "\n"
      ],
      "metadata": {
        "id": "N4JCbAzMFDLX"
      },
      "execution_count": 28,
      "outputs": []
    },
    {
      "cell_type": "code",
      "source": [
        "def compare_students_recursive_optimized(scores):\n",
        "    comparisons = set()\n",
        "\n",
        "    def compare_helper(student1, student2, scores1, scores2):\n",
        "        # Compare scores of student1 with scores of student2\n",
        "        if all(score1 > score2 for score1, score2 in zip(scores1, scores2)):\n",
        "            comparisons.add(f\"{student1} > {student2}\")\n",
        "        elif all(score1 < score2 for score1, score2 in zip(scores1, scores2)):\n",
        "            comparisons.add(f\"{student1} < {student2}\")\n",
        "        else:\n",
        "            comparisons.add(f\"{student1} # {student2}\")  # Uncomparable scores\n",
        "\n",
        "    def recursive_compare(students):\n",
        "        if len(students) <= 1:\n",
        "            return\n",
        "\n",
        "        mid = len(students) // 2\n",
        "        first_half = students[:mid]\n",
        "        second_half = students[mid:]\n",
        "\n",
        "        for student1 in first_half:\n",
        "            for student2 in second_half:\n",
        "                if (student1, student2) not in comparisons and (student2, student1) not in comparisons:\n",
        "                    scores1 = scores[student1]\n",
        "                    scores2 = scores[student2]\n",
        "                    compare_helper(student1, student2, scores1, scores2)\n",
        "\n",
        "        recursive_compare(first_half)\n",
        "        recursive_compare(second_half)\n",
        "\n",
        "    recursive_compare(list(scores.keys()))\n",
        "    return comparisons\n"
      ],
      "metadata": {
        "id": "uhfERhB6FyJd"
      },
      "execution_count": 29,
      "outputs": []
    },
    {
      "cell_type": "code",
      "source": [],
      "metadata": {
        "id": "Z1bwT-hiF0mh"
      },
      "execution_count": null,
      "outputs": []
    }
  ]
}